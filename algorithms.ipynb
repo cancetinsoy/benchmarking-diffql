{
 "cells": [
  {
   "cell_type": "code",
   "execution_count": 1,
   "id": "6e8b7283",
   "metadata": {},
   "outputs": [],
   "source": [
    "import os\n",
    "import gym\n",
    "import sys\n",
    "sys.path.append(\"environments\")\n",
    "import matplotlib.pyplot as plt\n",
    "import numpy as np\n",
    "import random\n",
    "import math\n",
    "import collections \n",
    "from collections import defaultdict, deque\n",
    "import statistics"
   ]
  },
  {
   "cell_type": "code",
   "execution_count": 2,
   "id": "9f838935",
   "metadata": {},
   "outputs": [],
   "source": [
    "def differential_q_learning(env,\n",
    "                            num_iterations=1000,\n",
    "                            alpha=0.1,\n",
    "                            beta=0.01,\n",
    "                            epsilon=0.1):\n",
    "\n",
    "    Q   = collections.defaultdict(float)\n",
    "    rho = 0.0\n",
    "\n",
    "    # start\n",
    "    raw = env.reset()\n",
    "    state = tuple(raw)\n",
    "\n",
    "    for _ in range(num_iterations):\n",
    "        # ε‑greedy action selection\n",
    "        actions = env.get_actions(state)\n",
    "        if random.random() < epsilon:\n",
    "            a = random.choice(actions)\n",
    "        else:\n",
    "            a = max(actions, key=lambda x: Q[(state, x)])\n",
    "\n",
    "        # take action\n",
    "        next_raw, reward, done, info = env.step(a)\n",
    "        next_state = tuple(next_raw)\n",
    "\n",
    "        # compute max_a' Q(next_state, a')\n",
    "        next_actions = env.get_actions(next_state)\n",
    "        max_q_next = max((Q[(next_state, a2)] for a2 in next_actions), default=0.0)\n",
    "\n",
    "        # TD error: δ = r − ρ + max Q(next) − Q(state,action)\n",
    "        delta = reward - rho + max_q_next - Q[(state, a)]\n",
    "\n",
    "        # updates\n",
    "        Q[(state, a)] += alpha * delta\n",
    "        rho           += beta  * delta\n",
    "\n",
    "        # advance\n",
    "        state = next_state\n",
    "\n",
    "    return Q, rho"
   ]
  },
  {
   "cell_type": "code",
   "execution_count": null,
   "id": "47c23f84",
   "metadata": {},
   "outputs": [
    {
     "name": "stdout",
     "output_type": "stream",
     "text": [
      "0.9999999999999539\n"
     ]
    }
   ],
   "source": [
    "from explicit2py_converter import ExplicitMDPEnv\n",
    "env = ExplicitMDPEnv(\n",
    "    tra_path=\"/Users/cancetinsoy/mdptest/stayvsburst.tra\",\n",
    "    rew_path=\"/Users/cancetinsoy/mdptest/stayvsburst.tra.rew\",\n",
    "    lab_path=\"/Users/cancetinsoy/mdptest/stayvsburst.lab\",\n",
    "    seed=0,  # optional\n",
    ")\n",
    "\n",
    "# plug straight into your differential_q_learning(...)\n",
    "Q, rho = differential_q_learning(env, num_iterations=200000, alpha=0.1, beta=0.001, epsilon=0.1)\n",
    "print(rho)  # learned average reward estimate"
   ]
  }
 ],
 "metadata": {
  "kernelspec": {
   "display_name": "Python 3",
   "language": "python",
   "name": "python3"
  },
  "language_info": {
   "codemirror_mode": {
    "name": "ipython",
    "version": 3
   },
   "file_extension": ".py",
   "mimetype": "text/x-python",
   "name": "python",
   "nbconvert_exporter": "python",
   "pygments_lexer": "ipython3",
   "version": "3.10.18"
  }
 },
 "nbformat": 4,
 "nbformat_minor": 5
}
